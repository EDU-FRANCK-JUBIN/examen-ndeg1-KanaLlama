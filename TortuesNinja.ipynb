{
 "cells": [
  {
   "cell_type": "code",
   "execution_count": 1,
   "metadata": {},
   "outputs": [],
   "source": [
    "import turtle \n",
    "from random import randint\n",
    "\n",
    "\n",
    "# Initialisation du jeu\n",
    "ts = turtle.getscreen()\n",
    "ts.clear()\n",
    "ts.bgpic(\"champcourse2.gif\")\n",
    "\n",
    "ts.title(\"Bienvenue Ã  la course des tortues !\")\n",
    "ts.setup (width=1400, height=800, startx=0, starty=0)"
   ]
  },
  {
   "cell_type": "code",
   "execution_count": 2,
   "metadata": {},
   "outputs": [],
   "source": [
    "Michelangelo = turtle.Turtle(shape = \"turtle\")\n",
    "Leonardo = turtle.Turtle(shape = \"turtle\")\n",
    "Raphael = turtle.Turtle(shape = \"turtle\")\n",
    "Donatelo = turtle.Turtle(shape = \"turtle\")\n",
    "Splinter = turtle.Turtle(shape = \"arrow\")"
   ]
  },
  {
   "cell_type": "code",
   "execution_count": 3,
   "metadata": {},
   "outputs": [],
   "source": [
    "def move(turtle, pos):\n",
    "    turtle.penup()\n",
    "    turtle.goto(pos[0], pos[1])\n",
    "    turtle.pendown()\n"
   ]
  },
  {
   "cell_type": "code",
   "execution_count": 4,
   "metadata": {},
   "outputs": [],
   "source": [
    "origin = [-650, 320]\n",
    "Michelangelo.color(\"orange\")\n",
    "move(Michelangelo, origin)"
   ]
  },
  {
   "cell_type": "code",
   "execution_count": 5,
   "metadata": {},
   "outputs": [],
   "source": [
    "origin2 = [-650, 170]\n",
    "Leonardo.color(\"blue\")\n",
    "move(Leonardo, origin2)"
   ]
  },
  {
   "cell_type": "code",
   "execution_count": 6,
   "metadata": {},
   "outputs": [],
   "source": [
    "origin3 = [-650, 0]\n",
    "Raphael.color(\"red\")\n",
    "move(Raphael, origin3)"
   ]
  },
  {
   "cell_type": "code",
   "execution_count": 7,
   "metadata": {},
   "outputs": [],
   "source": [
    "origin4 = [-650, -140]\n",
    "Donatelo.color(\"purple\")\n",
    "move(Donatelo, origin4)"
   ]
  },
  {
   "cell_type": "code",
   "execution_count": 8,
   "metadata": {},
   "outputs": [],
   "source": [
    "origin5 = [-650, -300]\n",
    "Splinter.color(\"Dark Slate Gray\")\n",
    "move(Splinter, origin5)"
   ]
  },
  {
   "cell_type": "code",
   "execution_count": null,
   "metadata": {},
   "outputs": [],
   "source": [
    "jeu = True\n",
    "while jeu == True:\n",
    "    for i in range(5):\n",
    "        turtles =[Michelangelo,Leonardo,Raphael,Donatelo,Splinter]\n",
    "        turtles[i].forward(randint(20,50))\n",
    "    \n",
    "    "
   ]
  },
  {
   "cell_type": "code",
   "execution_count": null,
   "metadata": {},
   "outputs": [],
   "source": [
    "\n",
    "\n",
    "\n",
    "turtle.mainloop()"
   ]
  }
 ],
 "metadata": {
  "kernelspec": {
   "display_name": "Python 3",
   "language": "python",
   "name": "python3"
  },
  "language_info": {
   "codemirror_mode": {
    "name": "ipython",
    "version": 3
   },
   "file_extension": ".py",
   "mimetype": "text/x-python",
   "name": "python",
   "nbconvert_exporter": "python",
   "pygments_lexer": "ipython3",
   "version": "3.7.4"
  }
 },
 "nbformat": 4,
 "nbformat_minor": 2
}
